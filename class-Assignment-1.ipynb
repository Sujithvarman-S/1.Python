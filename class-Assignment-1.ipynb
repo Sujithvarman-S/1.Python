{
 "cells": [
  {
   "cell_type": "code",
   "execution_count": 1,
   "id": "3267c677-6560-40fe-a155-48fd02c46544",
   "metadata": {},
   "outputs": [],
   "source": [
    "class overallfunctions():\n",
    "    \n",
    "    def subfields():\n",
    "        fields=\"Machine Learning\",\"Neural Networks\",\"Vision\",\"Robotics\",\"Speech Processing\",\"Natural Language Processing\"\n",
    "        print(\"subfields in ai are:\",fields)\n",
    "        return fields\n",
    "\n",
    "    def oddeven():\n",
    "        num=int(input(\"enter a number is:\"))\n",
    "        if(num%2==0):\n",
    "              print(num,\"is even number\")\n",
    "              message=num,\"is even number\"\n",
    "        else: \n",
    "              print(num,\"is odd number\")  \n",
    "              message=num,\"is odd number\"\n",
    "        return message\n",
    "\n",
    "    def marriage_eligibility():\n",
    "        num=input(\"your gender:\")\n",
    "        num2=int(input(\"your age:\"))\n",
    "        if(num== \"male\" and num2>21):\n",
    "            print(\"eligible\")\n",
    "            message=\"eligible\"\n",
    "        elif(num==\"female\"and num2>18):\n",
    "            print(\"eligible\")\n",
    "            message=\"eligible\"\n",
    "        else:\n",
    "            print(\"not eligible\")\n",
    "            message=\"not eligible\"\n",
    "        return message\n",
    "\n",
    "    def find_percentage():\n",
    "        num1=int(input(\"subject_1=\"))\n",
    "        num2=int(input(\"subject_2=\"))\n",
    "        num3=int(input(\"subject_3=\"))\n",
    "        num4=int(input(\"subject_4=\"))\n",
    "        num5=int(input(\"subject_5=\"))\n",
    "        add = num1+num2+num3+num4+num5\n",
    "        print(\"total:\",add)\n",
    "        percentage=add/500*100\n",
    "        print(\"percentage:\",percentage)\n",
    "        return percentage\n",
    "\n",
    "    def triangle():\n",
    "        height=int(input(\"height:\"))\n",
    "        breadth=int(input(\"breadth:\"))\n",
    "        area=(height*breadth)/2\n",
    "        print(\"area=\",area)\n",
    "        area_of_triangle=(1/2)*(breadth*height)\n",
    "        print(\"area of triangle=\",area_of_triangle)\n",
    "        height1=int(input(\"height1:\"))\n",
    "        height2=int(input(\"height2:\"))\n",
    "        breadth1=int(input(\"breadth:\"))\n",
    "        perimeter= height1+height2+breadth1\n",
    "        print(\"perimeter=\",perimeter)"
   ]
  },
  {
   "cell_type": "code",
   "execution_count": 3,
   "id": "44fbf840-cead-4429-8bfa-47bf772a8782",
   "metadata": {},
   "outputs": [
    {
     "name": "stdin",
     "output_type": "stream",
     "text": [
      "your gender: female\n",
      "your age: 17\n"
     ]
    },
    {
     "name": "stdout",
     "output_type": "stream",
     "text": [
      "not eligible\n"
     ]
    }
   ],
   "source": [
    "result=overallfunctions.marriage_eligibility()"
   ]
  },
  {
   "cell_type": "code",
   "execution_count": 5,
   "id": "ece5ffa2-a3b2-4b6a-81de-2bc782e7ca4f",
   "metadata": {},
   "outputs": [
    {
     "name": "stdin",
     "output_type": "stream",
     "text": [
      "enter a number is: 29\n"
     ]
    },
    {
     "name": "stdout",
     "output_type": "stream",
     "text": [
      "29 is odd number\n"
     ]
    }
   ],
   "source": [
    "result1=overallfunctions.oddeven()"
   ]
  },
  {
   "cell_type": "code",
   "execution_count": null,
   "id": "910f2423-9390-43e8-a20a-4df09a4ddd52",
   "metadata": {},
   "outputs": [],
   "source": []
  }
 ],
 "metadata": {
  "kernelspec": {
   "display_name": "Python [conda env:base] *",
   "language": "python",
   "name": "conda-base-py"
  },
  "language_info": {
   "codemirror_mode": {
    "name": "ipython",
    "version": 3
   },
   "file_extension": ".py",
   "mimetype": "text/x-python",
   "name": "python",
   "nbconvert_exporter": "python",
   "pygments_lexer": "ipython3",
   "version": "3.12.7"
  }
 },
 "nbformat": 4,
 "nbformat_minor": 5
}
