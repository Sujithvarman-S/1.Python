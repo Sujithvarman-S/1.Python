{
 "cells": [
  {
   "cell_type": "code",
   "execution_count": 1,
   "id": "e405b0da-f1fb-45d9-9f13-3cb24bd261e1",
   "metadata": {},
   "outputs": [
    {
     "name": "stdout",
     "output_type": "stream",
     "text": [
      "HOPE AI\n"
     ]
    }
   ],
   "source": [
    "print(\"HOPE AI\")"
   ]
  },
  {
   "cell_type": "code",
   "execution_count": 7,
   "id": "fd057f98-44f7-4d8e-8e61-f4b0f2e1a2f5",
   "metadata": {},
   "outputs": [
    {
     "name": "stdin",
     "output_type": "stream",
     "text": [
      "enter your institution name?: HOPE AI\n"
     ]
    }
   ],
   "source": [
    "institution_name=input(\"enter your institution name?:\")"
   ]
  },
  {
   "cell_type": "code",
   "execution_count": 11,
   "id": "977ece70-5ace-4472-b485-ffe7bc048686",
   "metadata": {},
   "outputs": [
    {
     "name": "stdin",
     "output_type": "stream",
     "text": [
      "enter your name: Raj\n",
      "enter your age: 15\n",
      "enter your school name: Guru school\n",
      "enter your degree: B.E CSE\n"
     ]
    }
   ],
   "source": [
    "name=input(\"enter your name:\")\n",
    "age=int(input(\"enter your age:\"))\n",
    "school_name=input(\"enter your school name:\")\n",
    "degree=input(\"enter your degree:\") "
   ]
  },
  {
   "cell_type": "code",
   "execution_count": 15,
   "id": "f403d2de-8f9b-4f08-8b73-6869c7b88c16",
   "metadata": {},
   "outputs": [
    {
     "name": "stdin",
     "output_type": "stream",
     "text": [
      "a= 43\n",
      "b= 34\n"
     ]
    },
    {
     "name": "stdout",
     "output_type": "stream",
     "text": [
      "add= 77\n"
     ]
    }
   ],
   "source": [
    "num1=int(input(\"a=\"))\n",
    "num2=int(input(\"b=\"))\n",
    "num3=num1+num2\n",
    "print(\"add=\",num3)"
   ]
  },
  {
   "cell_type": "code",
   "execution_count": 17,
   "id": "504bd756-0e5a-496d-965a-34c20ce8ff56",
   "metadata": {},
   "outputs": [
    {
     "name": "stdin",
     "output_type": "stream",
     "text": [
      "a= 43\n",
      "b= 34\n"
     ]
    },
    {
     "name": "stdout",
     "output_type": "stream",
     "text": [
      "sub= 9\n"
     ]
    }
   ],
   "source": [
    "num1=int(input(\"a=\"))\n",
    "num2=int(input(\"b=\"))\n",
    "num3=num1-num2\n",
    "print(\"sub=\",num3)"
   ]
  },
  {
   "cell_type": "code",
   "execution_count": 19,
   "id": "20e0629a-8d9b-44b1-b666-25a2334c0c74",
   "metadata": {},
   "outputs": [
    {
     "name": "stdin",
     "output_type": "stream",
     "text": [
      "a= 63\n",
      "b= 97\n"
     ]
    },
    {
     "name": "stdout",
     "output_type": "stream",
     "text": [
      "mult= 6111\n"
     ]
    }
   ],
   "source": [
    "num1=int(input(\"a=\"))\n",
    "num2=int(input(\"b=\"))\n",
    "num3=num1*num2\n",
    "print(\"mult=\",num3)"
   ]
  },
  {
   "cell_type": "code",
   "execution_count": 23,
   "id": "7f50a496-676c-4b9a-8c6c-36c71553695f",
   "metadata": {},
   "outputs": [
    {
     "name": "stdin",
     "output_type": "stream",
     "text": [
      "a= 76\n",
      "b= 31\n"
     ]
    },
    {
     "name": "stdout",
     "output_type": "stream",
     "text": [
      "div= 2.4516129032258065\n"
     ]
    }
   ],
   "source": [
    "num1=int(input(\"a=\"))\n",
    "num2=int(input(\"b=\"))\n",
    "num3=num1/num2\n",
    "print(\"div=\",num3)"
   ]
  },
  {
   "cell_type": "code",
   "execution_count": 29,
   "id": "1677e9ba-f706-4636-9a3b-c4497c99532e",
   "metadata": {},
   "outputs": [
    {
     "name": "stdin",
     "output_type": "stream",
     "text": [
      "a= 76\n",
      "b= 31\n"
     ]
    },
    {
     "name": "stdout",
     "output_type": "stream",
     "text": [
      "div= 2\n"
     ]
    }
   ],
   "source": [
    "import math\n",
    "num1=int(input(\"a=\"))\n",
    "num2=int(input(\"b=\"))\n",
    "num3=num1/num2\n",
    "print(\"div=\",math.floor(num3))"
   ]
  },
  {
   "cell_type": "code",
   "execution_count": 31,
   "id": "541a0f90-abc1-4c68-9282-4e35b924d803",
   "metadata": {},
   "outputs": [
    {
     "name": "stdin",
     "output_type": "stream",
     "text": [
      "a= 76\n",
      "b= 31\n"
     ]
    },
    {
     "name": "stdout",
     "output_type": "stream",
     "text": [
      "modulo= 14\n"
     ]
    }
   ],
   "source": [
    "num1=int(input(\"a=\"))\n",
    "num2=int(input(\"b=\"))\n",
    "num3=num1%num2\n",
    "print(\"modulo=\",num3)"
   ]
  },
  {
   "cell_type": "code",
   "execution_count": 33,
   "id": "ccde0a67-8cb9-4998-b174-3ae02c0a5f6a",
   "metadata": {},
   "outputs": [
    {
     "name": "stdin",
     "output_type": "stream",
     "text": [
      "a= 4\n",
      "b= 4\n"
     ]
    },
    {
     "name": "stdout",
     "output_type": "stream",
     "text": [
      "pow= 256\n"
     ]
    }
   ],
   "source": [
    "num1=int(input(\"a=\"))\n",
    "num2=int(input(\"b=\"))\n",
    "num3=num1**num2\n",
    "print(\"pow=\",num3)"
   ]
  },
  {
   "cell_type": "code",
   "execution_count": null,
   "id": "6d5503f8-f28c-482f-b9c5-8e274ab3ad31",
   "metadata": {},
   "outputs": [],
   "source": []
  }
 ],
 "metadata": {
  "kernelspec": {
   "display_name": "Python [conda env:base] *",
   "language": "python",
   "name": "conda-base-py"
  },
  "language_info": {
   "codemirror_mode": {
    "name": "ipython",
    "version": 3
   },
   "file_extension": ".py",
   "mimetype": "text/x-python",
   "name": "python",
   "nbconvert_exporter": "python",
   "pygments_lexer": "ipython3",
   "version": "3.12.7"
  }
 },
 "nbformat": 4,
 "nbformat_minor": 5
}
