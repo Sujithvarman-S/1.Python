{
 "cells": [
  {
   "cell_type": "code",
   "execution_count": 3,
   "id": "81df848d-2f6c-486f-ae6e-7ebf9727adfd",
   "metadata": {},
   "outputs": [
    {
     "name": "stdout",
     "output_type": "stream",
     "text": [
      "value: 10\n",
      "correct\n"
     ]
    }
   ],
   "source": [
    "for i in range(0,11,1):\n",
    "    if(i==10):\n",
    "        print(\"value:\",i)\n",
    "        print(\"correct\")"
   ]
  },
  {
   "cell_type": "code",
   "execution_count": 19,
   "id": "e199b42a-a347-4b64-805b-90a5a14d5b34",
   "metadata": {},
   "outputs": [
    {
     "name": "stdin",
     "output_type": "stream",
     "text": [
      "enter the password: HOPE@123\n"
     ]
    },
    {
     "name": "stdout",
     "output_type": "stream",
     "text": [
      "your password is correct\n"
     ]
    }
   ],
   "source": [
    "credential = \"HOPE@123\"\n",
    "var=input(\"enter the password:\")\n",
    "if(var==credential):\n",
    "    print(\"your password is correct\")\n",
    "else:\n",
    "    print(\"your password is incorrect\")"
   ]
  },
  {
   "cell_type": "code",
   "execution_count": 22,
   "id": "699583d1-b7c4-4d1a-af48-cd4faafca6e4",
   "metadata": {},
   "outputs": [
    {
     "name": "stdout",
     "output_type": "stream",
     "text": [
      "age: 23\n",
      "adult\n",
      "age: 45\n",
      "citizen\n",
      "age: 67\n",
      "senior citizen\n",
      "age: 34\n",
      "adult\n",
      "age: 39\n",
      "citizen\n"
     ]
    }
   ],
   "source": [
    "lists=[23,45,67,34,39] \n",
    "for age in lists:\n",
    "    if(age<18):\n",
    "        print(\"age:\",age)\n",
    "        print(\"children\")\n",
    "    elif(age<35):\n",
    "       print(\"age:\",age)\n",
    "       print(\"adult\")\n",
    "    elif(age<59):\n",
    "       print(\"age:\",age)\n",
    "       print(\"citizen\")\n",
    "    else:\n",
    "       print(\"age:\",age)\n",
    "       print(\"senior citizen\")"
   ]
  },
  {
   "cell_type": "code",
   "execution_count": 28,
   "id": "a840e8f1-94dd-4377-9ce7-c35b11158063",
   "metadata": {},
   "outputs": [
    {
     "name": "stdin",
     "output_type": "stream",
     "text": [
      "enter any number: 1\n"
     ]
    },
    {
     "name": "stdout",
     "output_type": "stream",
     "text": [
      "number is positive\n"
     ]
    }
   ],
   "source": [
    "num=int(input(\"enter any number:\"))\n",
    "if(num>0):\n",
    "    print(\"number is positive\")\n",
    "else:\n",
    "    print(\"number is negative\")"
   ]
  },
  {
   "cell_type": "code",
   "execution_count": 42,
   "id": "ece70e42-180b-4765-a6e0-4124ffcd8384",
   "metadata": {},
   "outputs": [
    {
     "name": "stdin",
     "output_type": "stream",
     "text": [
      "enter a number to check: 22\n"
     ]
    },
    {
     "name": "stdout",
     "output_type": "stream",
     "text": [
      "number is not divisible by 5\n"
     ]
    }
   ],
   "source": [
    "num=int(input(\"enter a number to check:\"))\n",
    "if(num%5==0):\n",
    "    print(\"number is divisible by 5\")\n",
    "else:\n",
    "    print(\"number is not divisible by 5\")  "
   ]
  },
  {
   "cell_type": "code",
   "execution_count": null,
   "id": "1a023ac3-8ed7-47dc-b915-70b62416a58d",
   "metadata": {},
   "outputs": [],
   "source": []
  }
 ],
 "metadata": {
  "kernelspec": {
   "display_name": "Python [conda env:base] *",
   "language": "python",
   "name": "conda-base-py"
  },
  "language_info": {
   "codemirror_mode": {
    "name": "ipython",
    "version": 3
   },
   "file_extension": ".py",
   "mimetype": "text/x-python",
   "name": "python",
   "nbconvert_exporter": "python",
   "pygments_lexer": "ipython3",
   "version": "3.12.7"
  }
 },
 "nbformat": 4,
 "nbformat_minor": 5
}
