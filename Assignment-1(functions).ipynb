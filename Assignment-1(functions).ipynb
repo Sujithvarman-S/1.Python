{
 "cells": [
  {
   "cell_type": "code",
   "execution_count": 17,
   "id": "b086e0b9-bd28-4634-bee7-6b810432e85e",
   "metadata": {},
   "outputs": [],
   "source": [
    "def subfields():\n",
    "    fields=\"Machine Learning\",\"Neural Networks\",\"Vision\",\"Robotics\",\"Speech Processing\",\"Natural Language Processing\"\n",
    "    print(\"subfields in ai are:\",fields)\n",
    "    return fields"
   ]
  },
  {
   "cell_type": "code",
   "execution_count": 21,
   "id": "7dd06b52-d139-4fbd-a36d-8880a06bddd1",
   "metadata": {},
   "outputs": [
    {
     "name": "stdout",
     "output_type": "stream",
     "text": [
      "subfields in ai are: ('Machine Learning', 'Neural Networks', 'Vision', 'Robotics', 'Speech Processing', 'Natural Language Processing')\n"
     ]
    }
   ],
   "source": [
    "fields_1=subfields()"
   ]
  },
  {
   "cell_type": "code",
   "execution_count": 33,
   "id": "20cffaf9-c42a-467b-888b-4aa2ec3ff442",
   "metadata": {},
   "outputs": [],
   "source": [
    "def oddeven():\n",
    "    num=int(input(\"enter a number is:\"))\n",
    "    if(num%2==0):\n",
    "          print(num,\"is even number\")\n",
    "          message=num,\"is even number\"\n",
    "    else: \n",
    "          print(num,\"is odd number\")  \n",
    "          message=num,\"is odd number\"\n",
    "    return message\n",
    "            "
   ]
  },
  {
   "cell_type": "code",
   "execution_count": 37,
   "id": "8c073879-6b3a-4b02-8208-b110c96dbced",
   "metadata": {},
   "outputs": [
    {
     "name": "stdin",
     "output_type": "stream",
     "text": [
      "enter a number is: 52452\n"
     ]
    },
    {
     "name": "stdout",
     "output_type": "stream",
     "text": [
      "52452 is even number\n"
     ]
    }
   ],
   "source": [
    "find=oddeven()\n",
    "find"
   ]
  },
  {
   "cell_type": "code",
   "execution_count": 149,
   "id": "863e4d0e-a212-4cd3-9c8d-76e52ad286b1",
   "metadata": {},
   "outputs": [],
   "source": [
    "def marriage_eligibility():\n",
    "    num=input(\"your gender:\")\n",
    "    num2=int(input(\"your age:\"))\n",
    "    if(num== \"male\" and num2>21):\n",
    "        print(\"eligible\")\n",
    "        message=\"eligible\"\n",
    "    elif(num==\"female\"and num2>18):\n",
    "        print(\"eligible\")\n",
    "        message=\"eligible\"\n",
    "    else:\n",
    "        print(\"not eligible\")\n",
    "        message=\"not eligible\"\n",
    "    return message"
   ]
  },
  {
   "cell_type": "code",
   "execution_count": 151,
   "id": "5d30282c-b09d-4e1c-b5af-a8ee80835d4a",
   "metadata": {},
   "outputs": [
    {
     "name": "stdin",
     "output_type": "stream",
     "text": [
      "your gender: male\n",
      "your age: 20\n"
     ]
    },
    {
     "name": "stdout",
     "output_type": "stream",
     "text": [
      "not eligible\n"
     ]
    }
   ],
   "source": [
    "message=marriage_eligibility()"
   ]
  },
  {
   "cell_type": "code",
   "execution_count": 179,
   "id": "ab26b387-fd96-4265-8d42-0ceb6c07d056",
   "metadata": {},
   "outputs": [],
   "source": [
    "def find_percentage():\n",
    "    num1=int(input(\"subject_1=\"))\n",
    "    num2=int(input(\"subject_2=\"))\n",
    "    num3=int(input(\"subject_3=\"))\n",
    "    num4=int(input(\"subject_4=\"))\n",
    "    num5=int(input(\"subject_5=\"))\n",
    "    add = num1+num2+num3+num4+num5\n",
    "    print(\"total:\",add)\n",
    "    percentage=add/500*100\n",
    "    print(\"percentage:\",percentage)\n",
    "    return percentage"
   ]
  },
  {
   "cell_type": "code",
   "execution_count": 181,
   "id": "4414e42d-062b-4df4-9a85-cab0380e4bd6",
   "metadata": {},
   "outputs": [
    {
     "name": "stdin",
     "output_type": "stream",
     "text": [
      "subject_1= 98\n",
      "subject_2= 87\n",
      "subject_3= 95\n",
      "subject_4= 95\n",
      "subject_5= 93\n"
     ]
    },
    {
     "name": "stdout",
     "output_type": "stream",
     "text": [
      "total: 468\n",
      "percentage: 93.60000000000001\n"
     ]
    }
   ],
   "source": [
    "percentage = find_percentage()"
   ]
  },
  {
   "cell_type": "code",
   "execution_count": 185,
   "id": "d3ba4e0d-840b-45b2-a897-131ff6d44ff6",
   "metadata": {},
   "outputs": [],
   "source": [
    "def triangle():\n",
    "    height=int(input(\"height:\"))\n",
    "    breadth=int(input(\"breadth:\"))\n",
    "    area=(height*breadth)/2\n",
    "    print(\"area=\",area)\n",
    "    area_of_triangle=(1/2)*(breadth*height)\n",
    "    print(\"area of triangle=\",area_of_triangle)\n",
    "    height1=int(input(\"height1:\"))\n",
    "    height2=int(input(\"height2:\"))\n",
    "    breadth1=int(input(\"breadth:\"))\n",
    "    perimeter= height1+height2+breadth1\n",
    "    print(\"perimeter=\",perimeter)\n",
    "    \n",
    "    "
   ]
  },
  {
   "cell_type": "code",
   "execution_count": 187,
   "id": "588318e1-2034-414c-adb0-692e1e276134",
   "metadata": {},
   "outputs": [
    {
     "name": "stdin",
     "output_type": "stream",
     "text": [
      "height: 32\n",
      "breadth: 34\n"
     ]
    },
    {
     "name": "stdout",
     "output_type": "stream",
     "text": [
      "area= 544.0\n",
      "area of triangle= 544.0\n"
     ]
    },
    {
     "name": "stdin",
     "output_type": "stream",
     "text": [
      "height1: 2\n",
      "height2: 4\n",
      "breadth: 4\n"
     ]
    },
    {
     "name": "stdout",
     "output_type": "stream",
     "text": [
      "perimeter= 10\n"
     ]
    }
   ],
   "source": [
    "triangle_1=triangle()\n"
   ]
  },
  {
   "cell_type": "code",
   "execution_count": null,
   "id": "1ebb4e13-3cde-4eb3-9af0-95f45579ff96",
   "metadata": {},
   "outputs": [],
   "source": []
  }
 ],
 "metadata": {
  "kernelspec": {
   "display_name": "Python [conda env:base] *",
   "language": "python",
   "name": "conda-base-py"
  },
  "language_info": {
   "codemirror_mode": {
    "name": "ipython",
    "version": 3
   },
   "file_extension": ".py",
   "mimetype": "text/x-python",
   "name": "python",
   "nbconvert_exporter": "python",
   "pygments_lexer": "ipython3",
   "version": "3.12.7"
  }
 },
 "nbformat": 4,
 "nbformat_minor": 5
}
