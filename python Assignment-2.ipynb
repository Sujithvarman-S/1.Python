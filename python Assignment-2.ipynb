{
 "cells": [
  {
   "cell_type": "code",
   "execution_count": 1,
   "id": "81df848d-2f6c-486f-ae6e-7ebf9727adfd",
   "metadata": {},
   "outputs": [
    {
     "name": "stdout",
     "output_type": "stream",
     "text": [
      "0\n",
      "1\n",
      "2\n",
      "3\n",
      "4\n",
      "5\n",
      "6\n",
      "7\n",
      "8\n",
      "9\n",
      "10\n",
      "11\n",
      "12\n",
      "13\n",
      "14\n",
      "15\n",
      "16\n",
      "17\n",
      "18\n",
      "19\n"
     ]
    }
   ],
   "source": [
    "for num in range(0,20,1):\n",
    "    print(num)"
   ]
  },
  {
   "cell_type": "code",
   "execution_count": 15,
   "id": "513aa3c5-18ae-44bf-9f5e-c24f604ab6d4",
   "metadata": {},
   "outputs": [
    {
     "name": "stdout",
     "output_type": "stream",
     "text": [
      "[10, 11, 12, 13, 14, 15, 16, 17, 18, 19]\n"
     ]
    }
   ],
   "source": [
    "num = list(range(10,20,1))\n",
    "print(num)"
   ]
  },
  {
   "cell_type": "code",
   "execution_count": 33,
   "id": "9cd23a76-aa6c-4b93-a005-947d73f51d28",
   "metadata": {},
   "outputs": [
    {
     "name": "stdout",
     "output_type": "stream",
     "text": [
      "[10, 20, 14, 55, 43, 87, 76]\n",
      "number of item in list2: 7\n"
     ]
    }
   ],
   "source": [
    "num=[10,20,14,55,43,87,76]\n",
    "print(num)\n",
    "ans=(len(num))\n",
    "print(\"number of item in list2:\",ans)"
   ]
  },
  {
   "cell_type": "code",
   "execution_count": 41,
   "id": "ce20c3bd-7aec-4742-bf63-20ea01c3488b",
   "metadata": {},
   "outputs": [
    {
     "name": "stdout",
     "output_type": "stream",
     "text": [
      "Artificial inteligence\n",
      "A\n",
      "r\n",
      "t\n",
      "i\n",
      "f\n",
      "i\n",
      "c\n",
      "i\n",
      "a\n",
      "l\n",
      " \n",
      "i\n",
      "n\n",
      "t\n",
      "e\n",
      "l\n",
      "i\n",
      "g\n",
      "e\n",
      "n\n",
      "c\n",
      "e\n"
     ]
    }
   ],
   "source": [
    "var=\"Artificial inteligence\"\n",
    "print(var)\n",
    "for var1 in var:\n",
    "    print(var1)"
   ]
  },
  {
   "cell_type": "code",
   "execution_count": 43,
   "id": "91c075be-45a6-4664-a5e4-e5ae92ac0566",
   "metadata": {},
   "outputs": [
    {
     "name": "stdout",
     "output_type": "stream",
     "text": [
      "-your name-\n",
      "-your age-\n",
      "-your proffesion-\n"
     ]
    }
   ],
   "source": [
    "print(\"-your name-\")\n",
    "print(\"-your age-\")\n",
    "print(\"-your proffesion-\")"
   ]
  },
  {
   "cell_type": "code",
   "execution_count": 49,
   "id": "f97e4720-3454-4fb9-85c6-c4c8948ff7ec",
   "metadata": {},
   "outputs": [
    {
     "name": "stdout",
     "output_type": "stream",
     "text": [
      "(1, 'welcome', 2, 'hope')\n"
     ]
    }
   ],
   "source": [
    "num=(1,\"welcome\",2,\"hope\")\n",
    "print(num)"
   ]
  },
  {
   "cell_type": "code",
   "execution_count": 81,
   "id": "1e3f920d-e6c2-41ff-af4d-56904a60b19e",
   "metadata": {},
   "outputs": [
    {
     "name": "stdout",
     "output_type": "stream",
     "text": [
      "(0, 1, 2, 3, 'python', 'Hope')\n"
     ]
    }
   ],
   "source": [
    "num1 = (0, 1, 2, 3,)\n",
    "num2=(\"python\",\"Hope\")\n",
    "num= tuple(num1)+tuple(num2)\n",
    "print(num)"
   ]
  },
  {
   "cell_type": "code",
   "execution_count": 89,
   "id": "316c1cf9-b001-4daf-91f4-cc40d0c7a0a3",
   "metadata": {},
   "outputs": [
    {
     "name": "stdout",
     "output_type": "stream",
     "text": [
      "even is 20\n",
      "even is 10\n",
      "even is 16\n",
      "even is 276\n",
      "even is 188\n"
     ]
    }
   ],
   "source": [
    "main_num=(20,10,16,19,25,1,276,188)\n",
    "for temp in main_num:\n",
    "    if(temp%2==0):\n",
    "        print(\"even is\",temp)\n",
    "    "
   ]
  },
  {
   "cell_type": "code",
   "execution_count": 91,
   "id": "af0b9092-eaf3-4b0a-a02b-9120ac1b9c45",
   "metadata": {},
   "outputs": [
    {
     "name": "stdout",
     "output_type": "stream",
     "text": [
      "odd is 19\n",
      "odd is 25\n",
      "odd is 1\n"
     ]
    }
   ],
   "source": [
    "main_num=(20,10,16,19,25,1,276,188)\n",
    "for temp in main_num:\n",
    "    if(temp%2==1):\n",
    "        print(\"odd is\",temp)"
   ]
  },
  {
   "cell_type": "code",
   "execution_count": null,
   "id": "babc6038-f003-4bc9-8dab-43b7cdf4a6ac",
   "metadata": {},
   "outputs": [],
   "source": []
  }
 ],
 "metadata": {
  "kernelspec": {
   "display_name": "Python [conda env:base] *",
   "language": "python",
   "name": "conda-base-py"
  },
  "language_info": {
   "codemirror_mode": {
    "name": "ipython",
    "version": 3
   },
   "file_extension": ".py",
   "mimetype": "text/x-python",
   "name": "python",
   "nbconvert_exporter": "python",
   "pygments_lexer": "ipython3",
   "version": "3.12.7"
  }
 },
 "nbformat": 4,
 "nbformat_minor": 5
}
