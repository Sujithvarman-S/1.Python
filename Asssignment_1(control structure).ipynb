{
 "cells": [
  {
   "cell_type": "code",
   "execution_count": 1,
   "id": "bb4d5c87-583b-4309-ad95-ea6e3aac4db0",
   "metadata": {},
   "outputs": [
    {
     "name": "stdout",
     "output_type": "stream",
     "text": [
      "Welcome to Assignment-1\n"
     ]
    }
   ],
   "source": [
    "print(\"Welcome to Assignment-1\")"
   ]
  },
  {
   "cell_type": "code",
   "execution_count": 11,
   "id": "f4025951-3cf5-40b2-814a-105c08a6931f",
   "metadata": {},
   "outputs": [
    {
     "name": "stdin",
     "output_type": "stream",
     "text": [
      "num1= 10\n",
      "num2= 30\n"
     ]
    },
    {
     "name": "stdout",
     "output_type": "stream",
     "text": [
      "add= 40\n"
     ]
    }
   ],
   "source": [
    "num1=int(input(\"num1=\"))\n",
    "num2=int(input(\"num2=\"))\n",
    "num3=num1+num2\n",
    "print(\"add=\",num3)\n"
   ]
  },
  {
   "cell_type": "code",
   "execution_count": 17,
   "id": "c21620d0-3465-48cf-bfad-7c9f7c28a8a3",
   "metadata": {},
   "outputs": [
    {
     "name": "stdin",
     "output_type": "stream",
     "text": [
      "enter the BMI index: 34\n"
     ]
    },
    {
     "name": "stdout",
     "output_type": "stream",
     "text": [
      "obesed\n"
     ]
    }
   ],
   "source": [
    "weight=int(input(\"enter the BMI index:\"))\n",
    "if(weight<18.5):\n",
    "    print(\"under weight\")\n",
    "elif(weight<=24.9):\n",
    "    print(\"normal\")\n",
    "elif(weight<=29.9):\n",
    "    print(\"overweight\")\n",
    "elif(weight<=34.9):\n",
    "    print(\"obesed\")\n",
    "else:\n",
    "    print(\"extra obesed\")"
   ]
  },
  {
   "cell_type": "code",
   "execution_count": null,
   "id": "6a6ed588-4f65-4c97-a5b3-a417acff96bb",
   "metadata": {},
   "outputs": [],
   "source": []
  }
 ],
 "metadata": {
  "kernelspec": {
   "display_name": "Python [conda env:base] *",
   "language": "python",
   "name": "conda-base-py"
  },
  "language_info": {
   "codemirror_mode": {
    "name": "ipython",
    "version": 3
   },
   "file_extension": ".py",
   "mimetype": "text/x-python",
   "name": "python",
   "nbconvert_exporter": "python",
   "pygments_lexer": "ipython3",
   "version": "3.12.7"
  }
 },
 "nbformat": 4,
 "nbformat_minor": 5
}
