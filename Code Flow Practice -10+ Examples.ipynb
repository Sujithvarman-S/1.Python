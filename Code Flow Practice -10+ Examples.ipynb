{
 "cells": [
  {
   "cell_type": "code",
   "execution_count": 1,
   "id": "368ef371-5286-48e1-9a40-03c99660f65b",
   "metadata": {},
   "outputs": [],
   "source": [
    "cart_items = [\"Laptop\", \"Mouse\", \"Keyboard\", \"Monitor\"]\n",
    "item_prices = {\"Laptop\": 1000, \"Mouse\": 20, \"Keyboard\": 50, \"Monitor\": 300}"
   ]
  },
  {
   "cell_type": "code",
   "execution_count": 2,
   "id": "6d12c890-2491-43a5-a76d-e4147d26fc3b",
   "metadata": {},
   "outputs": [
    {
     "name": "stdout",
     "output_type": "stream",
     "text": [
      "Total Cost before discount: 1370\n"
     ]
    }
   ],
   "source": [
    "# Calculate the total cost\n",
    "total_cost = sum(item_prices[item] for item in cart_items)\n",
    "print(\"Total Cost before discount:\", total_cost)"
   ]
  },
  {
   "cell_type": "code",
   "execution_count": 3,
   "id": "1469282f-0bff-464b-bde7-85b5a6a3b7de",
   "metadata": {},
   "outputs": [
    {
     "name": "stdout",
     "output_type": "stream",
     "text": [
      "Total Cost after discount: 1233.0\n"
     ]
    }
   ],
   "source": [
    "discount_rate = 0.1  # 10% discount\n",
    "if total_cost > 200:\n",
    "    total_cost -= total_cost * discount_rate\n",
    "print(\"Total Cost after discount:\", total_cost)"
   ]
  },
  {
   "cell_type": "code",
   "execution_count": 19,
   "id": "8e30b22e-7c00-4e4a-a35b-18771455a3f7",
   "metadata": {},
   "outputs": [],
   "source": [
    "class CustomerOrder:\n",
    "    def __init__(self, items, total_cost, discount):\n",
    "        self.items = items\n",
    "        self.total_cost = total_cost\n",
    "        self.discount = discount\n",
    "\n",
    "    def display_order_summary(self):\n",
    "        print(\"Order Summary:\")\n",
    "        print(\"Items:\", ', '.join(self.items))\n",
    "        print(\"Total Cost:\", self.total_cost)\n",
    "        print(\"Discount Applied:\", self.discount)"
   ]
  },
  {
   "cell_type": "code",
   "execution_count": 23,
   "id": "0807d60e-9d0a-41a6-9231-3911a7726181",
   "metadata": {},
   "outputs": [
    {
     "name": "stdout",
     "output_type": "stream",
     "text": [
      "Order Summary:\n",
      "Items: Laptop, Mouse, Keyboard, Monitor\n",
      "Total Cost: 1233.0\n",
      "Discount Applied: 0.1\n"
     ]
    }
   ],
   "source": [
    "customer_order = CustomerOrder(cart_items, total_cost, discount_rate)\n",
    "customer_order.display_order_summary()"
   ]
  },
  {
   "cell_type": "code",
   "execution_count": 27,
   "id": "698e2926-cd58-490e-a90d-4c6120fa1b66",
   "metadata": {},
   "outputs": [
    {
     "name": "stdout",
     "output_type": "stream",
     "text": [
      "{'HR': 50000}\n",
      "{'HR': 50000, 'IT': 60000}\n",
      "{'HR': 105000, 'IT': 60000}\n",
      "{'HR': 105000, 'IT': 125000}\n",
      "{'HR': 105000, 'IT': 125000, 'Finance': 70000}\n",
      "\n",
      "Total Salaries by Department:\n",
      "HR: $105000\n",
      "IT: $125000\n",
      "Finance: $70000\n"
     ]
    }
   ],
   "source": [
    "\n",
    "employees = {\n",
    "    \"Alice\": {\"department\": \"HR\", \"salary\": 50000},\n",
    "    \"Bob\": {\"department\": \"IT\", \"salary\": 60000},\n",
    "    \"Charlie\": {\"department\": \"HR\", \"salary\": 55000},\n",
    "    \"David\": {\"department\": \"IT\", \"salary\": 65000},\n",
    "    \"Eve\": {\"department\": \"Finance\", \"salary\": 70000}\n",
    "}\n",
    "\n",
    "\n",
    "department_salaries = {}\n",
    "for employee, details in employees.items():\n",
    "    department = details[\"department\"]\n",
    "    salary = details[\"salary\"]\n",
    "    department_salaries[department] = department_salaries.get(department, 0) + salary\n",
    "    #print(department)\n",
    "    print(department_salaries)\n",
    "    \n",
    "\n",
    "# Display total salaries for each department\n",
    "print(\"\\nTotal Salaries by Department:\")\n",
    "for department, total_salary in department_salaries.items():\n",
    "    print(f\"{department}: ${total_salary}\")\n"
   ]
  },
  {
   "cell_type": "code",
   "execution_count": 29,
   "id": "c7922d99-c8ba-4365-bb6b-b712354963ee",
   "metadata": {},
   "outputs": [],
   "source": [
    "library_available_books = {\n",
    "    \"Python Programming\": 5,\n",
    "    \"Data Science for Beginners\": 3,\n",
    "    \"Classic Novels Collection\": 8,\n",
    "    \"Web Development Basics\": 6,\n",
    "    \"Introduction to AI\": 4\n",
    "}\n"
   ]
  },
  {
   "cell_type": "code",
   "execution_count": 31,
   "id": "9a3ccc7e-1bf3-4111-8d93-4289eb48a979",
   "metadata": {},
   "outputs": [
    {
     "name": "stdout",
     "output_type": "stream",
     "text": [
      "library_available_books:\n",
      "Python Programming - Copies available: 5\n",
      "Data Science for Beginners - Copies available: 3\n",
      "Classic Novels Collection - Copies available: 8\n",
      "Web Development Basics - Copies available: 6\n",
      "Introduction to AI - Copies available: 4\n"
     ]
    }
   ],
   "source": [
    "# Display available books\n",
    "print(\"library_available_books:\")\n",
    "for book, copies in library_available_books.items():\n",
    "    print(f\"{book} - Copies available: {copies}\")\n"
   ]
  },
  {
   "cell_type": "code",
   "execution_count": 33,
   "id": "1ad262c1-d87d-472f-a608-4812676319ab",
   "metadata": {},
   "outputs": [],
   "source": [
    "store_inventory = {\n",
    "    \"Apples\": {\"quantity\": 100, \"price\": 1.5},\n",
    "    \"Bananas\": {\"quantity\": 50, \"price\": 0.8},\n",
    "    \"Milk\": {\"quantity\": 20, \"price\": 2.0},\n",
    "    \"Bread\": {\"quantity\": 30, \"price\": 1.0},\n",
    "    \"Eggs\": {\"quantity\": 40, \"price\": 1.2}\n",
    "}"
   ]
  },
  {
   "cell_type": "code",
   "execution_count": 35,
   "id": "b7da7766-39c6-4ab4-a20c-0e550e0f64cd",
   "metadata": {},
   "outputs": [
    {
     "name": "stdout",
     "output_type": "stream",
     "text": [
      "{'Apples': {'quantity': 100, 'price': 1.5}, 'Bananas': {'quantity': 50, 'price': 0.8}, 'Milk': {'quantity': 20, 'price': 2.0}, 'Bread': {'quantity': 30, 'price': 1.0}, 'Eggs': {'quantity': 40, 'price': 1.2}}\n",
      "Apples - Quantity: 100, Price: $1.5 per unit\n",
      "Bananas - Quantity: 50, Price: $0.8 per unit\n",
      "Milk - Quantity: 20, Price: $2.0 per unit\n",
      "Bread - Quantity: 30, Price: $1.0 per unit\n",
      "Eggs - Quantity: 40, Price: $1.2 per unit\n"
     ]
    }
   ],
   "source": [
    "# Display available products and their details\n",
    "print(store_inventory)\n",
    "for product, details in store_inventory.items():\n",
    "    print(f\"{product} - Quantity: {details['quantity']}, Price: ${details['price']} per unit\")"
   ]
  },
  {
   "cell_type": "code",
   "execution_count": 37,
   "id": "6ffcf83d-8bde-4fb7-b351-41b10e5e1fc5",
   "metadata": {},
   "outputs": [
    {
     "name": "stdin",
     "output_type": "stream",
     "text": [
      "Enter the product you want to buy (or 'done' to finish):  Apples\n",
      "How many units of Apples do you want to buy?  4\n"
     ]
    },
    {
     "name": "stdout",
     "output_type": "stream",
     "text": [
      "4 units of Apples added to your cart.\n"
     ]
    },
    {
     "name": "stdin",
     "output_type": "stream",
     "text": [
      "Enter the product you want to buy (or 'done' to finish):  done\n"
     ]
    }
   ],
   "source": [
    "# Second code snippet: Simulate a user making a purchase\n",
    "user_cart = {}\n",
    "while True:\n",
    "    user_input = input(\"Enter the product you want to buy (or 'done' to finish): \")\n",
    "    if user_input.lower() == 'done':\n",
    "        break\n",
    "    elif user_input in store_inventory and store_inventory[user_input][\"quantity\"] > 0:\n",
    "        quantity_to_buy = int(input(f\"How many units of {user_input} do you want to buy? \"))\n",
    "        if quantity_to_buy <= store_inventory[user_input][\"quantity\"]:\n",
    "            if user_input in user_cart:\n",
    "                user_cart[user_input] += quantity_to_buy\n",
    "            else:\n",
    "                user_cart[user_input] = quantity_to_buy\n",
    "            store_inventory[user_input][\"quantity\"] -= quantity_to_buy\n",
    "            print(f\"{quantity_to_buy} units of {user_input} added to your cart.\")\n",
    "        else:\n",
    "            print(f\"Sorry, only {store_inventory[user_input]['quantity']} units of {user_input} available.\")\n",
    "    else:\n",
    "        print(f\"Sorry, {user_input} is not available or out of stock.\")"
   ]
  },
  {
   "cell_type": "code",
   "execution_count": 39,
   "id": "c240a80c-18cc-442b-ac54-a6c31155481c",
   "metadata": {},
   "outputs": [
    {
     "name": "stdout",
     "output_type": "stream",
     "text": [
      "\n",
      "Your Shopping Cart:\n",
      "1.5\n",
      "Apples - Quantity: 4, Price per unit: $1.5\n",
      "\n",
      "Total Cost of Your Purchase: $6.0\n"
     ]
    }
   ],
   "source": [
    "total_cost = 0\n",
    "print(\"\\nYour Shopping Cart:\")\n",
    "for product, quantity in user_cart.items():\n",
    "    price_per_unit = store_inventory[product][\"price\"]\n",
    "    print(price_per_unit)\n",
    "    \n",
    "    total_cost += quantity * price_per_unit\n",
    "    print(f\"{product} - Quantity: {quantity}, Price per unit: ${price_per_unit}\")\n",
    "\n",
    "print(f\"\\nTotal Cost of Your Purchase: ${total_cost}\")"
   ]
  },
  {
   "cell_type": "code",
   "execution_count": 59,
   "id": "2d852879-127f-4a22-9e12-51776730a32b",
   "metadata": {},
   "outputs": [],
   "source": [
    "customers = {\n",
    "    \"Alice\": {\"account_number\": 1001, \"balance\": 5000},\n",
    "    \"Bob\": {\"account_number\": 1002, \"balance\": 3000},\n",
    "    \"Charlie\": {\"account_number\": 1003, \"balance\": 7000}\n",
    "}"
   ]
  },
  {
   "cell_type": "code",
   "execution_count": 65,
   "id": "077804b9-7f72-4249-a0b8-89adfe8a041b",
   "metadata": {},
   "outputs": [
    {
     "name": "stdout",
     "output_type": "stream",
     "text": [
      "\n",
      "Initial Account Details:\n",
      "Alice - Account Number: 1001, Balance: $5000\n",
      "Bob - Account Number: 1002, Balance: $3000\n",
      "Charlie - Account Number: 1003, Balance: $7000\n"
     ]
    }
   ],
   "source": [
    "# Display initial account details\n",
    "print(\"\\nInitial Account Details:\")\n",
    "for customer, details in customers.items():\n",
    "    print(f\"{customer} - Account Number: {details['account_number']}, Balance: ${details['balance']}\")"
   ]
  },
  {
   "cell_type": "code",
   "execution_count": 79,
   "id": "8e19e9bd-5533-416b-a718-36899b976026",
   "metadata": {},
   "outputs": [
    {
     "name": "stdin",
     "output_type": "stream",
     "text": [
      "Alice, do you want to (D)eposit or (W)ithdraw?  w\n",
      "Enter the withdrawal amount: $ 6\n"
     ]
    },
    {
     "name": "stdout",
     "output_type": "stream",
     "text": [
      "Withdrawal of $6.0 successful. New balance: $4994.0\n"
     ]
    },
    {
     "name": "stdin",
     "output_type": "stream",
     "text": [
      "Bob, do you want to (D)eposit or (W)ithdraw?  w\n",
      "Enter the withdrawal amount: $ 6\n"
     ]
    },
    {
     "name": "stdout",
     "output_type": "stream",
     "text": [
      "Withdrawal of $6.0 successful. New balance: $2994.0\n"
     ]
    },
    {
     "name": "stdin",
     "output_type": "stream",
     "text": [
      "Charlie, do you want to (D)eposit or (W)ithdraw?  d\n",
      "Enter the deposit amount: $ 9\n"
     ]
    },
    {
     "name": "stdout",
     "output_type": "stream",
     "text": [
      "Deposit of $9.0 successful. New balance: $7009.0\n"
     ]
    }
   ],
   "source": [
    "# Second code snippet: Perform transactions (deposits and withdrawals)\n",
    "for customer, details in customers.items():\n",
    "    transaction_type = input(f\"{customer}, do you want to (D)eposit or (W)ithdraw? \").upper()\n",
    "\n",
    "    if transaction_type == 'D':\n",
    "        amount = float(input(\"Enter the deposit amount: $\"))\n",
    "        details['balance'] += amount\n",
    "        print(f\"Deposit of ${amount} successful. New balance: ${details['balance']}\")\n",
    "    elif transaction_type == 'W':\n",
    "        amount = float(input(\"Enter the withdrawal amount: $\"))\n",
    "        if amount <= details['balance']:\n",
    "            details['balance'] -= amount\n",
    "            print(f\"Withdrawal of ${amount} successful. New balance: ${details['balance']}\")\n",
    "        else:\n",
    "            print(\"Insufficient funds. Withdrawal unsuccessful.\")\n",
    "    else:\n",
    "        print(\"Invalid transaction type. Please enter 'D' for deposit or 'W' for withdrawal.\")"
   ]
  },
  {
   "cell_type": "code",
   "execution_count": 81,
   "id": "a9b6ebe1-ff0b-4fb1-932b-dfb5b36b20b2",
   "metadata": {},
   "outputs": [
    {
     "name": "stdout",
     "output_type": "stream",
     "text": [
      "\n",
      "Updated Account Details:\n",
      "Alice - Account Number: 1001, Balance: $4994.0\n",
      "Bob - Account Number: 1002, Balance: $2994.0\n",
      "Charlie - Account Number: 1003, Balance: $7009.0\n"
     ]
    }
   ],
   "source": [
    "# Display updated account details after transactions\n",
    "print(\"\\nUpdated Account Details:\")\n",
    "for customer, details in customers.items():\n",
    "    print(f\"{customer} - Account Number: {details['account_number']}, Balance: ${details['balance']}\")"
   ]
  },
  {
   "cell_type": "code",
   "execution_count": 93,
   "id": "059f3d47-8ca7-4572-a2e3-4d1e66e6a18d",
   "metadata": {},
   "outputs": [],
   "source": [
    "# Third code snippet: Create a class for bank accounts and use it to manage accounts\n",
    "class BankAccount:\n",
    "    def __init__(self, account_number, balance):\n",
    "        self.account_number = account_number\n",
    "        self.balance = balance\n",
    "\n",
    "    def deposit(self, amount):\n",
    "        self.balance += amount\n",
    "        return f\"Deposit of ${amount} successful. New balance: ${self.balance}\"   # short class version of \"above code\"....\n",
    "\n",
    "    def withdraw(self, amount):\n",
    "        if amount <= self.balance:\n",
    "            self.balance -= amount\n",
    "            return f\"Withdrawal of ${amount} successful. New balance: ${self.balance}\"\n",
    "        else:\n",
    "            return \"Insufficient funds. Withdrawal unsuccessful.\"\n"
   ]
  },
  {
   "cell_type": "code",
   "execution_count": 95,
   "id": "278526ee-075e-445d-ab2b-81ab714908b5",
   "metadata": {},
   "outputs": [],
   "source": [
    "students = {\n",
    "    \"Alice\": {\"assignments\": [90, 85, 95], \"final_exam\": 88},\n",
    "    \"Bob\": {\"assignments\": [78, 92, 80], \"final_exam\": 75},\n",
    "    \"Charlie\": {\"assignments\": [88, 85, 90], \"final_exam\": 92}\n",
    "}\n"
   ]
  },
  {
   "cell_type": "code",
   "execution_count": 97,
   "id": "f451d90f-fa0c-44c7-bb1f-e224b8419d83",
   "metadata": {},
   "outputs": [
    {
     "name": "stdout",
     "output_type": "stream",
     "text": [
      "Student Details and Assignment Scores:\n",
      "Alice - Assignments: [90, 85, 95], Final Exam: 88\n",
      "Bob - Assignments: [78, 92, 80], Final Exam: 75\n",
      "Charlie - Assignments: [88, 85, 90], Final Exam: 92\n"
     ]
    }
   ],
   "source": [
    "# Display initial student details and assignment scores\n",
    "print(\"Student Details and Assignment Scores:\")\n",
    "for student, details in students.items():\n",
    "    print(f\"{student} - Assignments: {details['assignments']}, Final Exam: {details['final_exam']}\")"
   ]
  },
  {
   "cell_type": "code",
   "execution_count": 101,
   "id": "70c1781c-1e5b-465e-b467-f4e66e5750b8",
   "metadata": {},
   "outputs": [],
   "source": [
    "# Second code snippet: Calculate the average assignment score for each student\n",
    "for student, details in students.items():\n",
    "    assignment_avg = sum(details[\"assignments\"]) / len(details[\"assignments\"])\n",
    "    details[\"assignment_avg\"] = assignment_avg"
   ]
  },
  {
   "cell_type": "code",
   "execution_count": 140,
   "id": "2f47e03c-76ab-4a75-bb4f-fc9059af4859",
   "metadata": {},
   "outputs": [
    {
     "name": "stdout",
     "output_type": "stream",
     "text": [
      "\n",
      "Updated Student Details with Assignment Averages:\n",
      "Alice - Assignments Average: 90.00, Final Exam: 88\n",
      "Bob - Assignments Average: 83.33, Final Exam: 75\n",
      "Charlie - Assignments Average: 87.67, Final Exam: 92\n"
     ]
    }
   ],
   "source": [
    "# Display updated student details with average assignment scores\n",
    "print(\"\\nUpdated Student Details with Assignment Averages:\")\n",
    "for student, details in students.items():\n",
    "    print(f\"{student} - Assignments Average: {details['assignment_avg']:.2f}, Final Exam: {details['final_exam']}\")"
   ]
  },
  {
   "cell_type": "code",
   "execution_count": 146,
   "id": "09d4cf2f-5897-44ca-b731-e89c46762cdf",
   "metadata": {},
   "outputs": [],
   "source": [
    "# Third code snippet: Determine final grades based on assignment averages and final exam scores\n",
    "def calculate_final_grade(avg_assignment_score, final_exam_score):\n",
    "    final_score = 0.4 * avg_assignment_score + 0.6 * final_exam_score \n",
    "                               #40% weightage for \"avg of assignment\" and 60% weightage for \"final exam score\"...\n",
    "    if final_score >= 90:\n",
    "        return \"A\"\n",
    "    elif final_score >= 80:\n",
    "        return \"B\"\n",
    "    elif final_score >= 70:\n",
    "        return \"C\"\n",
    "    elif final_score >= 60:\n",
    "        return \"D\"\n",
    "    else:\n",
    "        return \"F\"\n",
    "\n"
   ]
  },
  {
   "cell_type": "code",
   "execution_count": 144,
   "id": "9a07c371-b4df-4716-8672-e44126275e8b",
   "metadata": {},
   "outputs": [
    {
     "name": "stdout",
     "output_type": "stream",
     "text": [
      "\n",
      "Final Grades:\n",
      "Alice - Final Grade: B\n",
      "Bob - Final Grade: C\n",
      "Charlie - Final Grade: A\n"
     ]
    }
   ],
   "source": [
    "# Calculate and display final grades for each student\n",
    "print(\"\\nFinal Grades:\")\n",
    "for student, details in students.items():\n",
    "    final_grade = calculate_final_grade(details[\"assignment_avg\"], details[\"final_exam\"])\n",
    "    print(f\"{student} - Final Grade: {final_grade}\") "
   ]
  }
 ],
 "metadata": {
  "kernelspec": {
   "display_name": "Python [conda env:base] *",
   "language": "python",
   "name": "conda-base-py"
  },
  "language_info": {
   "codemirror_mode": {
    "name": "ipython",
    "version": 3
   },
   "file_extension": ".py",
   "mimetype": "text/x-python",
   "name": "python",
   "nbconvert_exporter": "python",
   "pygments_lexer": "ipython3",
   "version": "3.12.7"
  }
 },
 "nbformat": 4,
 "nbformat_minor": 5
}
